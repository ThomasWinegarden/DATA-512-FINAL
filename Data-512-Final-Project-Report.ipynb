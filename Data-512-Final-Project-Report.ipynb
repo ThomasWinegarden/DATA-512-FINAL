{
 "cells": [
  {
   "cell_type": "markdown",
   "metadata": {},
   "source": [
    "# The Seattle Public Library and MacMillan Publishers eBook Embargo\n",
    "\n",
    "Thomas Winegarden  \n",
    "2019-12-09  \n",
    "Final Project Report  \n",
    "DATA 512 (Autumn 2019) Human Centered Data Science  \n",
    "University of Washington  \n"
   ]
  },
  {
   "cell_type": "markdown",
   "metadata": {},
   "source": [
    "## Introduction\n",
    "\n",
    "In October of this year the King County Library System (KCLS) announced that it would [no longer purchase newly released eBooks from Macmillan Publishers](https://kcls.org/news/kcls-boycotts-macmillan-publishers-ebook-embargo/) starting November 1st, 2019. This came in response to [Macmillan Publishers decision to place an embargo on sales of ebooks to US libraries](https://www.publishersweekly.com/binary-data/ARTICLE_ATTACHMENT/file/000/004/4222-1.pdf) due to the effects digital checkouts were having on ebook sales. This decision by Macmillan will also be affecting The Seattle Public Library (SPL) and news of the embargo and its possible effects have motivated me to understand and investigate the impact this may have on Seattle's readers. I urge readers of this report to read NPR's article on the issues at hand, ['You May Have To Wait To Borrow A New E-Book From The Library'](https://www.npr.org/2019/11/01/775150979/you-may-have-to-wait-to-borrow-a-new-e-book-from-the-library).\n",
    "\n",
    "\n",
    "This notebook is a final project for The University of Washington's Human Centered Data Science course (DATA 512) taught by [Jonathan Morgan](https://jtmorgan.net/). This notebook based report is meant to meet and exceed the [assignment 7 requirements](https://wiki.communitydata.science/Human_Centered_Data_Science_(Fall_2019)/Assignments#A7:_Final_project_report) and was modeled after [Rex Thompson's Report on Paid Street Parking](https://github.com/rexthompson/DATA-512-Final-Project/blob/master/DATA-512-Final-Project.ipynb) per instructor recommendation.\n",
    "\n",
    "#### Research Question 1: Which type of readers will be affected by Macmillan’s eBook embargo?\n",
    "\n",
    "#### Research Question 2: What is the possible impact if SPL also boycotts Macmillan?\n",
    "\n",
    "#### Research Question 2 (Revised): If SPL were to have boycotted Macmillan in 2018, what would the impact have been?\n",
    "\n"
   ]
  },
  {
   "cell_type": "markdown",
   "metadata": {},
   "source": [
    "## Reproducibility\n",
    "\n",
    "This analysis contained in this report is meant to be fully reproducible. The [Checkouts by Title data](https://data.seattle.gov/Community/Checkouts-by-Title/tmmm-ytt6) is publicly available through Seattle governments Open Data Program. However this dataset exceeds Github's current individual file size limit and is therefore if one wishes to reproduce with the full data set please visit the link above and download as csv. If for some reason the link is no longer available please visit https://data.seattle.gov/ and search for \"Checkouts by Title\" or \"Checkouts\".  \n",
    "\n",
    "Below is the versioning information of my local system for the below analysis:"
   ]
  },
  {
   "cell_type": "code",
   "execution_count": 44,
   "metadata": {},
   "outputs": [
    {
     "data": {
      "text/plain": [
       "               _                           \n",
       "platform       x86_64-w64-mingw32          \n",
       "arch           x86_64                      \n",
       "os             mingw32                     \n",
       "system         x86_64, mingw32             \n",
       "status                                     \n",
       "major          3                           \n",
       "minor          6.1                         \n",
       "year           2019                        \n",
       "month          07                          \n",
       "day            05                          \n",
       "svn rev        76782                       \n",
       "language       R                           \n",
       "version.string R version 3.6.1 (2019-07-05)\n",
       "nickname       Action of the Toes          "
      ]
     },
     "metadata": {},
     "output_type": "display_data"
    }
   ],
   "source": [
    "version"
   ]
  },
  {
   "cell_type": "markdown",
   "metadata": {},
   "source": [
    "## Setup  \n",
    "\n",
    "Please make sure the following R packages are installed in your R environment before running the code below.  \n",
    " - [data.table](https://cran.r-project.org/web/packages/data.table/index.html)\n",
    " - [zoo](https://cran.r-project.org/web/packages/zoo/index.html)"
   ]
  },
  {
   "cell_type": "code",
   "execution_count": 3,
   "metadata": {},
   "outputs": [],
   "source": [
    "# setup\n",
    "suppressMessages(library(data.table))\n",
    "suppressMessages(library(zoo))"
   ]
  },
  {
   "cell_type": "code",
   "execution_count": 4,
   "metadata": {},
   "outputs": [],
   "source": [
    "options(scipen=5)\n",
    "set.seed(42);"
   ]
  },
  {
   "cell_type": "markdown",
   "metadata": {},
   "source": [
    "## Data\n",
    "\n",
    "This analysis relies on the [Checkouts by Title dataset](https://data.seattle.gov/Community/Checkouts-by-Title/tmmm-ytt6) which is publicly available through Seattle governments Open Data Program."
   ]
  },
  {
   "cell_type": "markdown",
   "metadata": {},
   "source": [
    "First we import the dataset provided by Seattle Open Data Program using [Fast And Friendly File Finagler](https://www.rdocumentation.org/packages/data.table/versions/1.12.6/topics/fread)"
   ]
  },
  {
   "cell_type": "code",
   "execution_count": 5,
   "metadata": {},
   "outputs": [],
   "source": [
    "#import data\n",
    "checkoutsDT <- fread(\"Checkouts_by_Title.csv\")"
   ]
  },
  {
   "cell_type": "markdown",
   "metadata": {},
   "source": [
    "Lets take a look at the headers."
   ]
  },
  {
   "cell_type": "code",
   "execution_count": 42,
   "metadata": {
    "scrolled": true
   },
   "outputs": [
    {
     "data": {
      "text/html": [
       "<table>\n",
       "<thead><tr><th scope=col>UsageClass</th><th scope=col>CheckoutType</th><th scope=col>MaterialType</th><th scope=col>CheckoutYear</th><th scope=col>CheckoutMonth</th><th scope=col>Checkouts</th><th scope=col>Title</th><th scope=col>Creator</th><th scope=col>Subjects</th><th scope=col>Publisher</th><th scope=col>PublicationYear</th></tr></thead>\n",
       "<tbody>\n",
       "\t<tr><td>Physical                                                                                                             </td><td>Horizon                                                                                                              </td><td>BOOK                                                                                                                 </td><td>2006                                                                                                                 </td><td>9                                                                                                                    </td><td>1                                                                                                                    </td><td>Henry Plantagenet; a biography [by] Richard Barber.                                                                  </td><td>Barber, Richard W.                                                                                                   </td><td>Henry II King of England 1133 1189, Great Britain History Henry II 1154 1189                                         </td><td>Roy Publishers                                                                                                       </td><td>[1967, c1964]                                                                                                        </td></tr>\n",
       "\t<tr><td>Physical                                                                                                             </td><td>Horizon                                                                                                              </td><td>BOOK                                                                                                                 </td><td>2006                                                                                                                 </td><td>9                                                                                                                    </td><td>1                                                                                                                    </td><td>The White Fox chronicles / Gary Paulsen.                                                                             </td><td>Paulsen, Gary                                                                                                        </td><td>Heroes Juvenile fiction, War stories, Science fiction Juvenile fiction                                               </td><td>Delacorte Press,                                                                                                     </td><td>c2000.                                                                                                               </td></tr>\n",
       "\t<tr><td>Physical                                                                                                             </td><td>Horizon                                                                                                              </td><td>BOOK                                                                                                                 </td><td>2006                                                                                                                 </td><td>9                                                                                                                    </td><td>3                                                                                                                    </td><td>The Kingfisher treasury of ghost stories / chosen by Kenneth Ireland ; illustrated by Tony Morris.                   </td><td>                                                                                                                     </td><td>Ghosts Fiction, Short stories                                                                                        </td><td>Kingfisher,                                                                                                          </td><td>[2005]                                                                                                               </td></tr>\n",
       "\t<tr><td>Physical                                                                                                             </td><td>Horizon                                                                                                              </td><td>SOUNDCASS                                                                                                            </td><td>2006                                                                                                                 </td><td>9                                                                                                                    </td><td>1                                                                                                                    </td><td>square root of murder                                                                                                </td><td>                                                                                                                     </td><td>Mystery and detective stories                                                                                        </td><td>                                                                                                                     </td><td>                                                                                                                     </td></tr>\n",
       "\t<tr><td>Physical                                                                                                                                                     </td><td>Horizon                                                                                                                                                      </td><td><span style=white-space:pre-wrap>BOOK     </span>                                                                                                            </td><td>2006                                                                                                                                                         </td><td>9                                                                                                                                                            </td><td>2                                                                                                                                                            </td><td><span style=white-space:pre-wrap>I got a \"\"D\"\" in salami / by Henry Winkler and Lin Oliver.                                        </span>                   </td><td>Winkler, Henry, 1945-                                                                                                                                        </td><td><span style=white-space:pre-wrap>Report cards Juvenile fiction, Schools Fiction                                                                       </span></td><td>Grosset &amp; Dunlap,                                                                                                                                        </td><td><span style=white-space:pre-wrap>c2003.       </span>                                                                                                        </td></tr>\n",
       "\t<tr><td>Physical                                                                                                             </td><td>Horizon                                                                                                              </td><td>BOOK                                                                                                                 </td><td>2006                                                                                                                 </td><td>9                                                                                                                    </td><td>6                                                                                                                    </td><td>Hope other dangerous pursuits                                                                                        </td><td>                                                                                                                     </td><td>Psychological fiction, Immigrants Fiction, Spain Fiction, Morocco Fiction, Moroccans Spain Fiction, Lifeboats Fiction</td><td>                                                                                                                     </td><td>                                                                                                                     </td></tr>\n",
       "</tbody>\n",
       "</table>\n"
      ],
      "text/latex": [
       "\\begin{tabular}{r|lllllllllll}\n",
       " UsageClass & CheckoutType & MaterialType & CheckoutYear & CheckoutMonth & Checkouts & Title & Creator & Subjects & Publisher & PublicationYear\\\\\n",
       "\\hline\n",
       "\t Physical                                                                                                              & Horizon                                                                                                               & BOOK                                                                                                                  & 2006                                                                                                                  & 9                                                                                                                     & 1                                                                                                                     & Henry Plantagenet; a biography {[}by{]} Richard Barber.                                                               & Barber, Richard W.                                                                                                    & Henry II King of England 1133 1189, Great Britain History Henry II 1154 1189                                          & Roy Publishers                                                                                                        & {[}1967, c1964{]}                                                                                                    \\\\\n",
       "\t Physical                                                                                                              & Horizon                                                                                                               & BOOK                                                                                                                  & 2006                                                                                                                  & 9                                                                                                                     & 1                                                                                                                     & The White Fox chronicles / Gary Paulsen.                                                                              & Paulsen, Gary                                                                                                         & Heroes Juvenile fiction, War stories, Science fiction Juvenile fiction                                                & Delacorte Press,                                                                                                      & c2000.                                                                                                               \\\\\n",
       "\t Physical                                                                                                              & Horizon                                                                                                               & BOOK                                                                                                                  & 2006                                                                                                                  & 9                                                                                                                     & 3                                                                                                                     & The Kingfisher treasury of ghost stories / chosen by Kenneth Ireland ; illustrated by Tony Morris.                    &                                                                                                                       & Ghosts Fiction, Short stories                                                                                         & Kingfisher,                                                                                                           & {[}2005{]}                                                                                                           \\\\\n",
       "\t Physical                                                                                                              & Horizon                                                                                                               & SOUNDCASS                                                                                                             & 2006                                                                                                                  & 9                                                                                                                     & 1                                                                                                                     & square root of murder                                                                                                 &                                                                                                                       & Mystery and detective stories                                                                                         &                                                                                                                       &                                                                                                                      \\\\\n",
       "\t Physical                                                                                                              & Horizon                                                                                                               & BOOK                                                                                                                  & 2006                                                                                                                  & 9                                                                                                                     & 2                                                                                                                     & I got a \"\"D\"\" in salami / by Henry Winkler and Lin Oliver.                                                            & Winkler, Henry, 1945-                                                                                                 & Report cards Juvenile fiction, Schools Fiction                                                                        & Grosset \\& Dunlap,                                                                                                   & c2003.                                                                                                               \\\\\n",
       "\t Physical                                                                                                              & Horizon                                                                                                               & BOOK                                                                                                                  & 2006                                                                                                                  & 9                                                                                                                     & 6                                                                                                                     & Hope other dangerous pursuits                                                                                         &                                                                                                                       & Psychological fiction, Immigrants Fiction, Spain Fiction, Morocco Fiction, Moroccans Spain Fiction, Lifeboats Fiction &                                                                                                                       &                                                                                                                      \\\\\n",
       "\\end{tabular}\n"
      ],
      "text/markdown": [
       "\n",
       "| UsageClass | CheckoutType | MaterialType | CheckoutYear | CheckoutMonth | Checkouts | Title | Creator | Subjects | Publisher | PublicationYear |\n",
       "|---|---|---|---|---|---|---|---|---|---|---|\n",
       "| Physical                                                                                                              | Horizon                                                                                                               | BOOK                                                                                                                  | 2006                                                                                                                  | 9                                                                                                                     | 1                                                                                                                     | Henry Plantagenet; a biography [by] Richard Barber.                                                                   | Barber, Richard W.                                                                                                    | Henry II King of England 1133 1189, Great Britain History Henry II 1154 1189                                          | Roy Publishers                                                                                                        | [1967, c1964]                                                                                                         |\n",
       "| Physical                                                                                                              | Horizon                                                                                                               | BOOK                                                                                                                  | 2006                                                                                                                  | 9                                                                                                                     | 1                                                                                                                     | The White Fox chronicles / Gary Paulsen.                                                                              | Paulsen, Gary                                                                                                         | Heroes Juvenile fiction, War stories, Science fiction Juvenile fiction                                                | Delacorte Press,                                                                                                      | c2000.                                                                                                                |\n",
       "| Physical                                                                                                              | Horizon                                                                                                               | BOOK                                                                                                                  | 2006                                                                                                                  | 9                                                                                                                     | 3                                                                                                                     | The Kingfisher treasury of ghost stories / chosen by Kenneth Ireland ; illustrated by Tony Morris.                    |                                                                                                                       | Ghosts Fiction, Short stories                                                                                         | Kingfisher,                                                                                                           | [2005]                                                                                                                |\n",
       "| Physical                                                                                                              | Horizon                                                                                                               | SOUNDCASS                                                                                                             | 2006                                                                                                                  | 9                                                                                                                     | 1                                                                                                                     | square root of murder                                                                                                 |                                                                                                                       | Mystery and detective stories                                                                                         |                                                                                                                       |                                                                                                                       |\n",
       "| Physical                                                                                                              | Horizon                                                                                                               | BOOK                                                                                                                  | 2006                                                                                                                  | 9                                                                                                                     | 2                                                                                                                     | I got a \"\"D\"\" in salami / by Henry Winkler and Lin Oliver.                                                            | Winkler, Henry, 1945-                                                                                                 | Report cards Juvenile fiction, Schools Fiction                                                                        | Grosset & Dunlap,                                                                                                     | c2003.                                                                                                                |\n",
       "| Physical                                                                                                              | Horizon                                                                                                               | BOOK                                                                                                                  | 2006                                                                                                                  | 9                                                                                                                     | 6                                                                                                                     | Hope other dangerous pursuits                                                                                         |                                                                                                                       | Psychological fiction, Immigrants Fiction, Spain Fiction, Morocco Fiction, Moroccans Spain Fiction, Lifeboats Fiction |                                                                                                                       |                                                                                                                       |\n",
       "\n"
      ],
      "text/plain": [
       "  UsageClass CheckoutType MaterialType CheckoutYear CheckoutMonth Checkouts\n",
       "1 Physical   Horizon      BOOK         2006         9             1        \n",
       "2 Physical   Horizon      BOOK         2006         9             1        \n",
       "3 Physical   Horizon      BOOK         2006         9             3        \n",
       "4 Physical   Horizon      SOUNDCASS    2006         9             1        \n",
       "5 Physical   Horizon      BOOK         2006         9             2        \n",
       "6 Physical   Horizon      BOOK         2006         9             6        \n",
       "  Title                                                                                             \n",
       "1 Henry Plantagenet; a biography [by] Richard Barber.                                               \n",
       "2 The White Fox chronicles / Gary Paulsen.                                                          \n",
       "3 The Kingfisher treasury of ghost stories / chosen by Kenneth Ireland ; illustrated by Tony Morris.\n",
       "4 square root of murder                                                                             \n",
       "5 I got a \"\"D\"\" in salami / by Henry Winkler and Lin Oliver.                                        \n",
       "6 Hope other dangerous pursuits                                                                     \n",
       "  Creator              \n",
       "1 Barber, Richard W.   \n",
       "2 Paulsen, Gary        \n",
       "3                      \n",
       "4                      \n",
       "5 Winkler, Henry, 1945-\n",
       "6                      \n",
       "  Subjects                                                                                                             \n",
       "1 Henry II King of England 1133 1189, Great Britain History Henry II 1154 1189                                         \n",
       "2 Heroes Juvenile fiction, War stories, Science fiction Juvenile fiction                                               \n",
       "3 Ghosts Fiction, Short stories                                                                                        \n",
       "4 Mystery and detective stories                                                                                        \n",
       "5 Report cards Juvenile fiction, Schools Fiction                                                                       \n",
       "6 Psychological fiction, Immigrants Fiction, Spain Fiction, Morocco Fiction, Moroccans Spain Fiction, Lifeboats Fiction\n",
       "  Publisher         PublicationYear\n",
       "1 Roy Publishers    [1967, c1964]  \n",
       "2 Delacorte Press,  c2000.         \n",
       "3 Kingfisher,       [2005]         \n",
       "4                                  \n",
       "5 Grosset & Dunlap, c2003.         \n",
       "6                                  "
      ]
     },
     "metadata": {},
     "output_type": "display_data"
    }
   ],
   "source": [
    "head(checkoutsDT)"
   ]
  },
  {
   "cell_type": "markdown",
   "metadata": {},
   "source": [
    "Below is code using data.table to break the initial import in to sub tables for analysis."
   ]
  },
  {
   "cell_type": "code",
   "execution_count": 6,
   "metadata": {},
   "outputs": [],
   "source": [
    "#Creating sub tables for ease of analysis\n",
    "#DON'T USE SORT INSIDE OF SUM GROUP BY\n",
    "\n",
    "#yearly bucketing of checkout sums\n",
    "yearlyCheckoutSums<-checkoutsDT[, sum(Checkouts),by=list(CheckoutYear)]\n",
    "yearlyCheckoutSums<-setorder(yearlyCheckoutSums, CheckoutYear)\n",
    "\n",
    "#Digital checkouts\n",
    "DigitalCheckoutsDT<-checkoutsDT[UsageClass == \"Digital\"]\n",
    "yearlyDigitalCheckoutSums<-DigitalCheckoutsDT[, sum(Checkouts),by=list(CheckoutYear)]\n",
    "yearlyDigitalCheckoutSums<-setorder(yearlyDigitalCheckoutSums, CheckoutYear)\n",
    "\n",
    "#Phyical checkouts\n",
    "PhysicalCheckoutsDT<-checkoutsDT[UsageClass == \"Physical\"]\n",
    "yearlyPhysicalCheckoutSums<-PhysicalCheckoutsDT[, sum(Checkouts),by=list(CheckoutYear)]\n",
    "yearlyPhysicalCheckoutSums<-setorder(yearlyPhysicalCheckoutSums, CheckoutYear)\n",
    "\n",
    "SevenYrDigitalDT<-DigitalCheckoutsDT[CheckoutYear >= 2012 \n",
    "                                     & CheckoutYear != 2019]\n",
    "yearlySevenYrDigitalSums<-SevenYrDigitalDT[, sum(Checkouts),by=list(CheckoutYear)]\n",
    "yearlySevenYrDigitalSums<-setorder(yearlySevenYrDigitalSums, CheckoutYear)\n",
    "\n",
    "#MacMillan Digital Checkouts\n",
    "MacmillanDigitalCheckoutsDT<-DigitalCheckoutsDT[Publisher == \"Macmillan Publishers\" \n",
    "                                                & CheckoutYear >= 2012 \n",
    "                                                & CheckoutYear != 2019]\n",
    "yearlyMacmillanDigitalCheckoutSums<-MacmillanDigitalCheckoutsDT[, sum(Checkouts),by=list(CheckoutYear)]\n",
    "yearlyMacmillanDigitalCheckoutSums<-setorder(yearlyMacmillanDigitalCheckoutSums, CheckoutYear)\n",
    "\n",
    "#Non MacMillan Digital Checkouts\n",
    "NotMacDigitalCheckoutsDT<-DigitalCheckoutsDT[Publisher != \"Macmillan Publishers\" \n",
    "                                             & CheckoutYear >= 2012\n",
    "                                             & CheckoutYear != 2019]\n",
    "yearlyNotMacDigitalCheckoutSums<-NotMacDigitalCheckoutsDT[, sum(Checkouts),by=list(CheckoutYear)]\n",
    "yearlyNotMacDigitalCheckoutSums<-setorder(yearlyNotMacDigitalCheckoutSums, CheckoutYear)"
   ]
  },
  {
   "cell_type": "markdown",
   "metadata": {},
   "source": [
    "## Understanding eBooks at SPL\n",
    "\n",
    "Before I tackle the research questions posed above. I think it easiest for the reader to first understand the scale of ebook checkouts at SPL, how it they have been growing, and Macmillan's position in ebook checkout counts."
   ]
  },
  {
   "cell_type": "code",
   "execution_count": 7,
   "metadata": {},
   "outputs": [
    {
     "data": {
      "image/png": "[encoded data removed]",
      "text/plain": [
       "Plot with title \"SPL Total Checkouts, Digital VS Physical\""
      ]
     },
     "metadata": {},
     "output_type": "display_data"
    }
   ],
   "source": [
    "# Create the input vectors.\n",
    "colors = c(\"blue\",\"grey\")\n",
    "years <- yearlyCheckoutSums$CheckoutYear\n",
    "regions <- c(\"Digital\", \"Physical\")\n",
    "\n",
    "Nyears = dim(yearlyCheckoutSums)[1]\n",
    "\n",
    "# Create the matrix of the values.\n",
    "Values <- matrix(c(yearlyDigitalCheckoutSums$V1, yearlyPhysicalCheckoutSums$V1), \n",
    "                 nrow = 2, ncol = Nyears, byrow = TRUE)\n",
    "\n",
    "# Give the chart file a name\n",
    "#png(file = \"SPL_Digital_VS_Phyiscal_Checkouts.png\")\n",
    "\n",
    "# Create the bar chart\n",
    "barplot(Values, main = \"SPL Total Checkouts, Digital VS Physical\", names.arg = years, \n",
    "        xlab = \"Year\", ylab = \"Checkouts\", col = colors)\n",
    "\n",
    "# Add the legend to the chart\n",
    "legend(\"topleft\", regions, cex = 1.3, fill = colors)\n",
    "\n",
    "# Save the file.\n",
    "#dev.off()"
   ]
  },
  {
   "cell_type": "markdown",
   "metadata": {},
   "source": [
    "As you can see in the chart above, the percentage of digital checkouts as part of the total amount of checkouts at SPL over the years has been increasing. In 2018 digital checkouts consisted of over 33% of all checkouts at SPL. The Bar is smaller in 2019 because at the time of this analysis 2019 has not concluded."
   ]
  },
  {
   "cell_type": "code",
   "execution_count": 45,
   "metadata": {},
   "outputs": [
    {
     "data": {
      "text/html": [
       "0.00757778113277666"
      ],
      "text/latex": [
       "0.00757778113277666"
      ],
      "text/markdown": [
       "0.00757778113277666"
      ],
      "text/plain": [
       "[1] 0.007577781"
      ]
     },
     "metadata": {},
     "output_type": "display_data"
    }
   ],
   "source": [
    "#first year percent\n",
    "yearlyDigitalCheckoutSums$V1[Nyears-11]/yearlyCheckoutSums$V1[Nyears-11]"
   ]
  },
  {
   "cell_type": "code",
   "execution_count": 46,
   "metadata": {},
   "outputs": [
    {
     "data": {
      "text/html": [
       "0.332983101429025"
      ],
      "text/latex": [
       "0.332983101429025"
      ],
      "text/markdown": [
       "0.332983101429025"
      ],
      "text/plain": [
       "[1] 0.3329831"
      ]
     },
     "metadata": {},
     "output_type": "display_data"
    }
   ],
   "source": [
    "#2018 percent digital\n",
    "yearlyDigitalCheckoutSums$V1[Nyears-1]/yearlyCheckoutSums$V1[Nyears-1]"
   ]
  },
  {
   "cell_type": "code",
   "execution_count": 47,
   "metadata": {},
   "outputs": [
    {
     "data": {
      "text/html": [
       "3046521"
      ],
      "text/latex": [
       "3046521"
      ],
      "text/markdown": [
       "3046521"
      ],
      "text/plain": [
       "[1] 3046521"
      ]
     },
     "metadata": {},
     "output_type": "display_data"
    }
   ],
   "source": [
    "#total 2018 digital\n",
    "yearlyDigitalCheckoutSums$V1[Nyears-1]"
   ]
  },
  {
   "cell_type": "code",
   "execution_count": 48,
   "metadata": {},
   "outputs": [
    {
     "data": {
      "text/html": [
       "9149176"
      ],
      "text/latex": [
       "9149176"
      ],
      "text/markdown": [
       "9149176"
      ],
      "text/plain": [
       "[1] 9149176"
      ]
     },
     "metadata": {},
     "output_type": "display_data"
    }
   ],
   "source": [
    "#total 2018 checkouts\n",
    "yearlyCheckoutSums$V1[Nyears-1]"
   ]
  },
  {
   "cell_type": "code",
   "execution_count": 8,
   "metadata": {},
   "outputs": [
    {
     "data": {
      "image/png": "[encoded data removed]",
      "text/plain": [
       "Plot with title \"SPL Total Digital Checkouts, MacMillan eBooks VS Else\""
      ]
     },
     "metadata": {},
     "output_type": "display_data"
    }
   ],
   "source": [
    "# Create the input vectors.\n",
    "colors = c(\"red\",\"blue\")\n",
    "years <- yearlyMacmillanDigitalCheckoutSums$CheckoutYear\n",
    "regions <- c(\"MacMillan\", \"Non-MacMillan\")\n",
    "\n",
    "NyearsD = dim(yearlyMacmillanDigitalCheckoutSums)[1]\n",
    "\n",
    "# Create the matrix of the values.\n",
    "Values <- matrix(c(yearlyMacmillanDigitalCheckoutSums$V1, yearlyNotMacDigitalCheckoutSums$V1), \n",
    "                 nrow = 2, ncol = NyearsD, byrow = TRUE)\n",
    "\n",
    "# Give the chart file a name\n",
    "#png(file = \"MacMillan_Digital_Checkouts.png\")\n",
    "\n",
    "# Create the bar chart\n",
    "barplot(Values, main = \"SPL Total Digital Checkouts, MacMillan eBooks VS Else\", names.arg = years, \n",
    "        xlab = \"Year\", ylab = \"Checkouts\", col = colors)\n",
    "\n",
    "# Add the legend to the chart\n",
    "legend(\"topleft\", regions, cex = 1.3, fill = colors)\n",
    "\n",
    "# Save the file.\n",
    "#dev.off()"
   ]
  },
  {
   "cell_type": "markdown",
   "metadata": {},
   "source": [
    "The above chart shows that Macmillan's ebook checkouts have been growing alongside digital checkouts at SPL. In 2018 Macmillan Publishers ebook checkouts was ~5% of all digital checkouts at SPL. In 2012 that was almost non existant."
   ]
  },
  {
   "cell_type": "code",
   "execution_count": 28,
   "metadata": {},
   "outputs": [
    {
     "data": {
      "text/html": [
       "0.0000127326309551094"
      ],
      "text/latex": [
       "0.0000127326309551094"
      ],
      "text/markdown": [
       "0.0000127326309551094"
      ],
      "text/plain": [
       "[1] 0.00001273263"
      ]
     },
     "metadata": {},
     "output_type": "display_data"
    }
   ],
   "source": [
    "#2012 Macmillan over total digital\n",
    "yearlyMacmillanDigitalCheckoutSums$V1[1]/(yearlyMacmillanDigitalCheckoutSums$V1[1]\n",
    "                                               +yearlyNotMacDigitalCheckoutSums$V1[1])\n",
    "\n",
    "\n",
    "#yearlyMacmillanDigitalCheckoutSums$V1[NyearsD]\n",
    "#yearlyNotMacDigitalCheckoutSums$V1[NyearsD]\n",
    "#2018 sum of digital\n",
    "#yearlyMacmillanDigitalCheckoutSums$V1[NyearsD]+yearlyNotMacDigitalCheckoutSums$V1[NyearsD]"
   ]
  },
  {
   "cell_type": "code",
   "execution_count": 29,
   "metadata": {},
   "outputs": [
    {
     "data": {
      "text/html": [
       "0.0504736386192644"
      ],
      "text/latex": [
       "0.0504736386192644"
      ],
      "text/markdown": [
       "0.0504736386192644"
      ],
      "text/plain": [
       "[1] 0.05047364"
      ]
     },
     "metadata": {},
     "output_type": "display_data"
    }
   ],
   "source": [
    "#2018 Macmillan over total digital\n",
    "yearlyMacmillanDigitalCheckoutSums$V1[NyearsD]/(yearlyMacmillanDigitalCheckoutSums$V1[NyearsD]\n",
    "                                               +yearlyNotMacDigitalCheckoutSums$V1[NyearsD])"
   ]
  },
  {
   "cell_type": "code",
   "execution_count": 30,
   "metadata": {},
   "outputs": [
    {
     "data": {
      "text/html": [
       "153769"
      ],
      "text/latex": [
       "153769"
      ],
      "text/markdown": [
       "153769"
      ],
      "text/plain": [
       "[1] 153769"
      ]
     },
     "metadata": {},
     "output_type": "display_data"
    }
   ],
   "source": [
    "#2018 total Macmillan checkouts\n",
    "yearlyMacmillanDigitalCheckoutSums$V1[NyearsD]"
   ]
  },
  {
   "cell_type": "code",
   "execution_count": 11,
   "metadata": {},
   "outputs": [],
   "source": [
    "#Digital checkout summing for\n",
    "DigitalCheckouts2018DT<-DigitalCheckoutsDT[CheckoutYear == 2018]\n",
    "publisherDigital2018Sums<-DigitalCheckouts2018DT[, sum(Checkouts),by=list(Publisher)]\n",
    "publisherDigital2018Sums<-setorder(publisherDigital2018Sums, V1)"
   ]
  },
  {
   "cell_type": "code",
   "execution_count": 12,
   "metadata": {},
   "outputs": [],
   "source": [
    "macDigitalCheckouts2018DT<-MacmillanDigitalCheckoutsDT[CheckoutYear == 2018]\n",
    "subjectsMacDigital2018Sums<-macDigitalCheckouts2018DT[, sum(Checkouts),by=list(Subjects),]\n",
    "subjectsMacDigital2018Sums<-setorder(subjectsMacDigital2018Sums, -V1)"
   ]
  },
  {
   "cell_type": "markdown",
   "metadata": {},
   "source": [
    "To get a feel for what kind of Macmillan titles were popular with Seattle readers below I have organized the new titles released in 2018 by checkout count below."
   ]
  },
  {
   "cell_type": "code",
   "execution_count": 13,
   "metadata": {},
   "outputs": [
    {
     "data": {
      "text/html": [
       "<table>\n",
       "<thead><tr><th scope=col>Title</th><th scope=col>V1</th></tr></thead>\n",
       "<tbody>\n",
       "\t<tr><td>The Great Alone: A Novel                                                                               </td><td>1672                                                                                                   </td></tr>\n",
       "\t<tr><td>Fire and Fury: Inside the Trump White House                                                            </td><td>1504                                                                                                   </td></tr>\n",
       "\t<tr><td>Factfulness: Ten Reasons We're Wrong About the Worldâ€”and Why Things Are Better Than You Think        </td><td>1245                                                                                                   </td></tr>\n",
       "\t<tr><td>Children of Blood and Bone: Children of OrÃsha Series, Book 1                                         </td><td> 872                                                                                                   </td></tr>\n",
       "\t<tr><td>A Higher Loyalty: Truth, Lies, and Leadership                                                          </td><td> 814                                                                                                   </td></tr>\n",
       "\t<tr><td>The Wife Between Us: A Novel                                                                           </td><td> 694                                                                                                   </td></tr>\n",
       "\t<tr><td>Dark in Death: In Death Series, Book 46                                                                </td><td> 525                                                                                                   </td></tr>\n",
       "\t<tr><td>Force of Nature: Aaron Falk Series, Book 2                                                             </td><td> 459                                                                                                   </td></tr>\n",
       "\t<tr><td>Shelter in Place                                                                                       </td><td> 412                                                                                                   </td></tr>\n",
       "\t<tr><td>Sometimes I Lie: A Novel                                                                               </td><td> 393                                                                                                   </td></tr>\n",
       "\t<tr><td>My Ex-Life: A Novel                                                                                    </td><td> 378                                                                                                   </td></tr>\n",
       "\t<tr><td>After Anna                                                                                             </td><td> 353                                                                                                   </td></tr>\n",
       "\t<tr><td>The Hazel Wood: A Novel                                                                                </td><td> 331                                                                                                   </td></tr>\n",
       "\t<tr><td>Nine Perfect Strangers: A Novel                                                                        </td><td> 282                                                                                                   </td></tr>\n",
       "\t<tr><td>The Shape of Water                                                                                     </td><td> 261                                                                                                   </td></tr>\n",
       "\t<tr><td>Girls Burn Brighter: A Novel                                                                           </td><td> 247                                                                                                   </td></tr>\n",
       "\t<tr><td>The Merry Spinster: Tales of Everyday Horror                                                           </td><td> 246                                                                                                   </td></tr>\n",
       "\t<tr><td>Robin                                                                                                  </td><td> 243                                                                                                   </td></tr>\n",
       "\t<tr><td>Head On: Lock In Series, Book 2                                                                        </td><td> 242                                                                                                   </td></tr>\n",
       "\t<tr><td>Artificial Condition--The Murderbot Diaries: The Murderbot Diaries Series, Book 2                      </td><td> 230                                                                                                   </td></tr>\n",
       "\t<tr><td>The High Tide Club: A Novel                                                                            </td><td> 220                                                                                                   </td></tr>\n",
       "\t<tr><td>Grist Mill Road: A Novel                                                                               </td><td> 213                                                                                                   </td></tr>\n",
       "\t<tr><td>How to Walk Away: A Novel                                                                              </td><td> 210                                                                                                   </td></tr>\n",
       "\t<tr><td>Our Kind of Cruelty: A Novel                                                                           </td><td> 199                                                                                                   </td></tr>\n",
       "\t<tr><td>Look Alive Out There: Essays                                                                           </td><td> 199                                                                                                   </td></tr>\n",
       "\t<tr><td>Beneath the Sugar Sky: Wayward Children Series, Book 3                                                 </td><td> 178                                                                                                   </td></tr>\n",
       "\t<tr><td>Happiness Is a Choice You Make: Lessons from a Year Among the Oldest Old                               </td><td> 174                                                                                                   </td></tr>\n",
       "\t<tr><td>The Sun Does Shine: How I Found Life and Freedom on Death Row (Oprah's Book Club Summer 2018 Selection)</td><td> 170                                                                                                   </td></tr>\n",
       "\t<tr><td>The Financial Diet: A Total Beginner's Guide to Getting Good with Money                                </td><td> 164                                                                                                   </td></tr>\n",
       "\t<tr><td>The Bishop's Pawn--A Novel: Cotton Malone Series, Book 13                                              </td><td> 164                                                                                                   </td></tr>\n",
       "\t<tr><td>...</td><td>...</td></tr>\n",
       "\t<tr><td>When They Call You a Terrorist: A Black Lives Matter Memoir                                           </td><td>151                                                                                                   </td></tr>\n",
       "\t<tr><td>Rogue Protocol: The Murderbot Diaries Series, Book 3                                                  </td><td>148                                                                                                   </td></tr>\n",
       "\t<tr><td>The Woman in the Water--A Prequel to the Charles Lenox Series: Charles Lenox Mysteries Series, Book 11</td><td>146                                                                                                   </td></tr>\n",
       "\t<tr><td>Number One Chinese Restaurant: A Novel                                                                </td><td>145                                                                                                   </td></tr>\n",
       "\t<tr><td>Extreme Ownership: How U.S. Navy SEALs Lead and Win                                                   </td><td>142                                                                                                   </td></tr>\n",
       "\t<tr><td>Baby Teeth: A Novel                                                                                   </td><td>139                                                                                                   </td></tr>\n",
       "\t<tr><td>Leverage in Death--An Eve Dallas Novel: In Death Series, Book 47                                      </td><td>139                                                                                                   </td></tr>\n",
       "\t<tr><td>The English Wife: A Novel                                                                             </td><td>135                                                                                                   </td></tr>\n",
       "\t<tr><td>The Night Masquerade: Binti Series, Book 3                                                            </td><td>133                                                                                                   </td></tr>\n",
       "\t<tr><td>Severance: A Novel                                                                                    </td><td>132                                                                                                   </td></tr>\n",
       "\t<tr><td>How Hard Can It Be?: Kate Reddy Series, Book 2                                                        </td><td>130                                                                                                   </td></tr>\n",
       "\t<tr><td>The Third Victim: A Novel                                                                             </td><td>127                                                                                                   </td></tr>\n",
       "\t<tr><td>Hidden Depths: Vera Stanhope Series, Book 3                                                           </td><td>127                                                                                                   </td></tr>\n",
       "\t<tr><td>Black Klansman: Race, Hate, and the Undercover Investigation of a Lifetime                            </td><td>126                                                                                                   </td></tr>\n",
       "\t<tr><td>Achtung Baby: An American Mom on the German Art of Raising Self-Reliant Children                      </td><td>125                                                                                                   </td></tr>\n",
       "\t<tr><td>Legendary--A Caraval Novel: Caraval Series, Book 2                                                    </td><td>125                                                                                                   </td></tr>\n",
       "\t<tr><td>Motherhood: A Novel                                                                                   </td><td>122                                                                                                   </td></tr>\n",
       "\t<tr><td>Vicious: Vicious Series, Book 1                                                                       </td><td>120                                                                                                   </td></tr>\n",
       "\t<tr><td>Wild Fire: Shetland Island Series, Book 8                                                             </td><td>110                                                                                                   </td></tr>\n",
       "\t<tr><td>Kingdom of the Blind: Chief Inspector Armand Gamache Series, Book 14                                  </td><td>109                                                                                                   </td></tr>\n",
       "\t<tr><td>The Glass Room: Vera Stanhope Series, Book 5                                                          </td><td>108                                                                                                   </td></tr>\n",
       "\t<tr><td>Ten Arguments for Deleting Your Social Media Accounts Right Now                                       </td><td>105                                                                                                   </td></tr>\n",
       "\t<tr><td>The Family Next Door: A Novel                                                                         </td><td>105                                                                                                   </td></tr>\n",
       "\t<tr><td>When to Jump: If the Job You Have Isn't the Life You Want                                             </td><td>104                                                                                                   </td></tr>\n",
       "\t<tr><td>Starless                                                                                              </td><td>104                                                                                                   </td></tr>\n",
       "\t<tr><td>The Mitford Murders: Mitford Murders Series, Book 1                                                   </td><td>103                                                                                                   </td></tr>\n",
       "\t<tr><td>Milkman: A Novel                                                                                      </td><td>103                                                                                                   </td></tr>\n",
       "\t<tr><td>The Mere Wife: A Novel                                                                                </td><td>102                                                                                                   </td></tr>\n",
       "\t<tr><td>So Lucky: A Novel                                                                                     </td><td>101                                                                                                   </td></tr>\n",
       "\t<tr><td>The Middleman: A Novel                                                                                </td><td>100                                                                                                   </td></tr>\n",
       "</tbody>\n",
       "</table>\n"
      ],
      "text/latex": [
       "\\begin{tabular}{r|ll}\n",
       " Title & V1\\\\\n",
       "\\hline\n",
       "\t The Great Alone: A Novel                                                                                & 1672                                                                                                   \\\\\n",
       "\t Fire and Fury: Inside the Trump White House                                                             & 1504                                                                                                   \\\\\n",
       "\t Factfulness: Ten Reasons We're Wrong About the Worldâ€”and Why Things Are Better Than You Think         & 1245                                                                                                   \\\\\n",
       "\t Children of Blood and Bone: Children of OrÃsha Series, Book 1                                          &  872                                                                                                   \\\\\n",
       "\t A Higher Loyalty: Truth, Lies, and Leadership                                                           &  814                                                                                                   \\\\\n",
       "\t The Wife Between Us: A Novel                                                                            &  694                                                                                                   \\\\\n",
       "\t Dark in Death: In Death Series, Book 46                                                                 &  525                                                                                                   \\\\\n",
       "\t Force of Nature: Aaron Falk Series, Book 2                                                              &  459                                                                                                   \\\\\n",
       "\t Shelter in Place                                                                                        &  412                                                                                                   \\\\\n",
       "\t Sometimes I Lie: A Novel                                                                                &  393                                                                                                   \\\\\n",
       "\t My Ex-Life: A Novel                                                                                     &  378                                                                                                   \\\\\n",
       "\t After Anna                                                                                              &  353                                                                                                   \\\\\n",
       "\t The Hazel Wood: A Novel                                                                                 &  331                                                                                                   \\\\\n",
       "\t Nine Perfect Strangers: A Novel                                                                         &  282                                                                                                   \\\\\n",
       "\t The Shape of Water                                                                                      &  261                                                                                                   \\\\\n",
       "\t Girls Burn Brighter: A Novel                                                                            &  247                                                                                                   \\\\\n",
       "\t The Merry Spinster: Tales of Everyday Horror                                                            &  246                                                                                                   \\\\\n",
       "\t Robin                                                                                                   &  243                                                                                                   \\\\\n",
       "\t Head On: Lock In Series, Book 2                                                                         &  242                                                                                                   \\\\\n",
       "\t Artificial Condition--The Murderbot Diaries: The Murderbot Diaries Series, Book 2                       &  230                                                                                                   \\\\\n",
       "\t The High Tide Club: A Novel                                                                             &  220                                                                                                   \\\\\n",
       "\t Grist Mill Road: A Novel                                                                                &  213                                                                                                   \\\\\n",
       "\t How to Walk Away: A Novel                                                                               &  210                                                                                                   \\\\\n",
       "\t Our Kind of Cruelty: A Novel                                                                            &  199                                                                                                   \\\\\n",
       "\t Look Alive Out There: Essays                                                                            &  199                                                                                                   \\\\\n",
       "\t Beneath the Sugar Sky: Wayward Children Series, Book 3                                                  &  178                                                                                                   \\\\\n",
       "\t Happiness Is a Choice You Make: Lessons from a Year Among the Oldest Old                                &  174                                                                                                   \\\\\n",
       "\t The Sun Does Shine: How I Found Life and Freedom on Death Row (Oprah's Book Club Summer 2018 Selection) &  170                                                                                                   \\\\\n",
       "\t The Financial Diet: A Total Beginner's Guide to Getting Good with Money                                 &  164                                                                                                   \\\\\n",
       "\t The Bishop's Pawn--A Novel: Cotton Malone Series, Book 13                                               &  164                                                                                                   \\\\\n",
       "\t ... & ...\\\\\n",
       "\t When They Call You a Terrorist: A Black Lives Matter Memoir                                            & 151                                                                                                   \\\\\n",
       "\t Rogue Protocol: The Murderbot Diaries Series, Book 3                                                   & 148                                                                                                   \\\\\n",
       "\t The Woman in the Water--A Prequel to the Charles Lenox Series: Charles Lenox Mysteries Series, Book 11 & 146                                                                                                   \\\\\n",
       "\t Number One Chinese Restaurant: A Novel                                                                 & 145                                                                                                   \\\\\n",
       "\t Extreme Ownership: How U.S. Navy SEALs Lead and Win                                                    & 142                                                                                                   \\\\\n",
       "\t Baby Teeth: A Novel                                                                                    & 139                                                                                                   \\\\\n",
       "\t Leverage in Death--An Eve Dallas Novel: In Death Series, Book 47                                       & 139                                                                                                   \\\\\n",
       "\t The English Wife: A Novel                                                                              & 135                                                                                                   \\\\\n",
       "\t The Night Masquerade: Binti Series, Book 3                                                             & 133                                                                                                   \\\\\n",
       "\t Severance: A Novel                                                                                     & 132                                                                                                   \\\\\n",
       "\t How Hard Can It Be?: Kate Reddy Series, Book 2                                                         & 130                                                                                                   \\\\\n",
       "\t The Third Victim: A Novel                                                                              & 127                                                                                                   \\\\\n",
       "\t Hidden Depths: Vera Stanhope Series, Book 3                                                            & 127                                                                                                   \\\\\n",
       "\t Black Klansman: Race, Hate, and the Undercover Investigation of a Lifetime                             & 126                                                                                                   \\\\\n",
       "\t Achtung Baby: An American Mom on the German Art of Raising Self-Reliant Children                       & 125                                                                                                   \\\\\n",
       "\t Legendary--A Caraval Novel: Caraval Series, Book 2                                                     & 125                                                                                                   \\\\\n",
       "\t Motherhood: A Novel                                                                                    & 122                                                                                                   \\\\\n",
       "\t Vicious: Vicious Series, Book 1                                                                        & 120                                                                                                   \\\\\n",
       "\t Wild Fire: Shetland Island Series, Book 8                                                              & 110                                                                                                   \\\\\n",
       "\t Kingdom of the Blind: Chief Inspector Armand Gamache Series, Book 14                                   & 109                                                                                                   \\\\\n",
       "\t The Glass Room: Vera Stanhope Series, Book 5                                                           & 108                                                                                                   \\\\\n",
       "\t Ten Arguments for Deleting Your Social Media Accounts Right Now                                        & 105                                                                                                   \\\\\n",
       "\t The Family Next Door: A Novel                                                                          & 105                                                                                                   \\\\\n",
       "\t When to Jump: If the Job You Have Isn't the Life You Want                                              & 104                                                                                                   \\\\\n",
       "\t Starless                                                                                               & 104                                                                                                   \\\\\n",
       "\t The Mitford Murders: Mitford Murders Series, Book 1                                                    & 103                                                                                                   \\\\\n",
       "\t Milkman: A Novel                                                                                       & 103                                                                                                   \\\\\n",
       "\t The Mere Wife: A Novel                                                                                 & 102                                                                                                   \\\\\n",
       "\t So Lucky: A Novel                                                                                      & 101                                                                                                   \\\\\n",
       "\t The Middleman: A Novel                                                                                 & 100                                                                                                   \\\\\n",
       "\\end{tabular}\n"
      ],
      "text/markdown": [
       "\n",
       "| Title | V1 |\n",
       "|---|---|\n",
       "| The Great Alone: A Novel                                                                                | 1672                                                                                                    |\n",
       "| Fire and Fury: Inside the Trump White House                                                             | 1504                                                                                                    |\n",
       "| Factfulness: Ten Reasons We're Wrong About the Worldâ€”and Why Things Are Better Than You Think         | 1245                                                                                                    |\n",
       "| Children of Blood and Bone: Children of OrÃsha Series, Book 1                                          |  872                                                                                                    |\n",
       "| A Higher Loyalty: Truth, Lies, and Leadership                                                           |  814                                                                                                    |\n",
       "| The Wife Between Us: A Novel                                                                            |  694                                                                                                    |\n",
       "| Dark in Death: In Death Series, Book 46                                                                 |  525                                                                                                    |\n",
       "| Force of Nature: Aaron Falk Series, Book 2                                                              |  459                                                                                                    |\n",
       "| Shelter in Place                                                                                        |  412                                                                                                    |\n",
       "| Sometimes I Lie: A Novel                                                                                |  393                                                                                                    |\n",
       "| My Ex-Life: A Novel                                                                                     |  378                                                                                                    |\n",
       "| After Anna                                                                                              |  353                                                                                                    |\n",
       "| The Hazel Wood: A Novel                                                                                 |  331                                                                                                    |\n",
       "| Nine Perfect Strangers: A Novel                                                                         |  282                                                                                                    |\n",
       "| The Shape of Water                                                                                      |  261                                                                                                    |\n",
       "| Girls Burn Brighter: A Novel                                                                            |  247                                                                                                    |\n",
       "| The Merry Spinster: Tales of Everyday Horror                                                            |  246                                                                                                    |\n",
       "| Robin                                                                                                   |  243                                                                                                    |\n",
       "| Head On: Lock In Series, Book 2                                                                         |  242                                                                                                    |\n",
       "| Artificial Condition--The Murderbot Diaries: The Murderbot Diaries Series, Book 2                       |  230                                                                                                    |\n",
       "| The High Tide Club: A Novel                                                                             |  220                                                                                                    |\n",
       "| Grist Mill Road: A Novel                                                                                |  213                                                                                                    |\n",
       "| How to Walk Away: A Novel                                                                               |  210                                                                                                    |\n",
       "| Our Kind of Cruelty: A Novel                                                                            |  199                                                                                                    |\n",
       "| Look Alive Out There: Essays                                                                            |  199                                                                                                    |\n",
       "| Beneath the Sugar Sky: Wayward Children Series, Book 3                                                  |  178                                                                                                    |\n",
       "| Happiness Is a Choice You Make: Lessons from a Year Among the Oldest Old                                |  174                                                                                                    |\n",
       "| The Sun Does Shine: How I Found Life and Freedom on Death Row (Oprah's Book Club Summer 2018 Selection) |  170                                                                                                    |\n",
       "| The Financial Diet: A Total Beginner's Guide to Getting Good with Money                                 |  164                                                                                                    |\n",
       "| The Bishop's Pawn--A Novel: Cotton Malone Series, Book 13                                               |  164                                                                                                    |\n",
       "| ... | ... |\n",
       "| When They Call You a Terrorist: A Black Lives Matter Memoir                                            | 151                                                                                                    |\n",
       "| Rogue Protocol: The Murderbot Diaries Series, Book 3                                                   | 148                                                                                                    |\n",
       "| The Woman in the Water--A Prequel to the Charles Lenox Series: Charles Lenox Mysteries Series, Book 11 | 146                                                                                                    |\n",
       "| Number One Chinese Restaurant: A Novel                                                                 | 145                                                                                                    |\n",
       "| Extreme Ownership: How U.S. Navy SEALs Lead and Win                                                    | 142                                                                                                    |\n",
       "| Baby Teeth: A Novel                                                                                    | 139                                                                                                    |\n",
       "| Leverage in Death--An Eve Dallas Novel: In Death Series, Book 47                                       | 139                                                                                                    |\n",
       "| The English Wife: A Novel                                                                              | 135                                                                                                    |\n",
       "| The Night Masquerade: Binti Series, Book 3                                                             | 133                                                                                                    |\n",
       "| Severance: A Novel                                                                                     | 132                                                                                                    |\n",
       "| How Hard Can It Be?: Kate Reddy Series, Book 2                                                         | 130                                                                                                    |\n",
       "| The Third Victim: A Novel                                                                              | 127                                                                                                    |\n",
       "| Hidden Depths: Vera Stanhope Series, Book 3                                                            | 127                                                                                                    |\n",
       "| Black Klansman: Race, Hate, and the Undercover Investigation of a Lifetime                             | 126                                                                                                    |\n",
       "| Achtung Baby: An American Mom on the German Art of Raising Self-Reliant Children                       | 125                                                                                                    |\n",
       "| Legendary--A Caraval Novel: Caraval Series, Book 2                                                     | 125                                                                                                    |\n",
       "| Motherhood: A Novel                                                                                    | 122                                                                                                    |\n",
       "| Vicious: Vicious Series, Book 1                                                                        | 120                                                                                                    |\n",
       "| Wild Fire: Shetland Island Series, Book 8                                                              | 110                                                                                                    |\n",
       "| Kingdom of the Blind: Chief Inspector Armand Gamache Series, Book 14                                   | 109                                                                                                    |\n",
       "| The Glass Room: Vera Stanhope Series, Book 5                                                           | 108                                                                                                    |\n",
       "| Ten Arguments for Deleting Your Social Media Accounts Right Now                                        | 105                                                                                                    |\n",
       "| The Family Next Door: A Novel                                                                          | 105                                                                                                    |\n",
       "| When to Jump: If the Job You Have Isn't the Life You Want                                              | 104                                                                                                    |\n",
       "| Starless                                                                                               | 104                                                                                                    |\n",
       "| The Mitford Murders: Mitford Murders Series, Book 1                                                    | 103                                                                                                    |\n",
       "| Milkman: A Novel                                                                                       | 103                                                                                                    |\n",
       "| The Mere Wife: A Novel                                                                                 | 102                                                                                                    |\n",
       "| So Lucky: A Novel                                                                                      | 101                                                                                                    |\n",
       "| The Middleman: A Novel                                                                                 | 100                                                                                                    |\n",
       "\n"
      ],
      "text/plain": [
       "    Title                                                                                                  \n",
       "1   The Great Alone: A Novel                                                                               \n",
       "2   Fire and Fury: Inside the Trump White House                                                            \n",
       "3   Factfulness: Ten Reasons We're Wrong About the Worldâ\\200”and Why Things Are Better Than You Think        \n",
       "4   Children of Blood and Bone: Children of OrÃ\\217sha Series, Book 1                                         \n",
       "5   A Higher Loyalty: Truth, Lies, and Leadership                                                          \n",
       "6   The Wife Between Us: A Novel                                                                           \n",
       "7   Dark in Death: In Death Series, Book 46                                                                \n",
       "8   Force of Nature: Aaron Falk Series, Book 2                                                             \n",
       "9   Shelter in Place                                                                                       \n",
       "10  Sometimes I Lie: A Novel                                                                               \n",
       "11  My Ex-Life: A Novel                                                                                    \n",
       "12  After Anna                                                                                             \n",
       "13  The Hazel Wood: A Novel                                                                                \n",
       "14  Nine Perfect Strangers: A Novel                                                                        \n",
       "15  The Shape of Water                                                                                     \n",
       "16  Girls Burn Brighter: A Novel                                                                           \n",
       "17  The Merry Spinster: Tales of Everyday Horror                                                           \n",
       "18  Robin                                                                                                  \n",
       "19  Head On: Lock In Series, Book 2                                                                        \n",
       "20  Artificial Condition--The Murderbot Diaries: The Murderbot Diaries Series, Book 2                      \n",
       "21  The High Tide Club: A Novel                                                                            \n",
       "22  Grist Mill Road: A Novel                                                                               \n",
       "23  How to Walk Away: A Novel                                                                              \n",
       "24  Our Kind of Cruelty: A Novel                                                                           \n",
       "25  Look Alive Out There: Essays                                                                           \n",
       "26  Beneath the Sugar Sky: Wayward Children Series, Book 3                                                 \n",
       "27  Happiness Is a Choice You Make: Lessons from a Year Among the Oldest Old                               \n",
       "28  The Sun Does Shine: How I Found Life and Freedom on Death Row (Oprah's Book Club Summer 2018 Selection)\n",
       "29  The Financial Diet: A Total Beginner's Guide to Getting Good with Money                                \n",
       "30  The Bishop's Pawn--A Novel: Cotton Malone Series, Book 13                                              \n",
       "... ...                                                                                                    \n",
       "32  When They Call You a Terrorist: A Black Lives Matter Memoir                                            \n",
       "33  Rogue Protocol: The Murderbot Diaries Series, Book 3                                                   \n",
       "34  The Woman in the Water--A Prequel to the Charles Lenox Series: Charles Lenox Mysteries Series, Book 11 \n",
       "35  Number One Chinese Restaurant: A Novel                                                                 \n",
       "36  Extreme Ownership: How U.S. Navy SEALs Lead and Win                                                    \n",
       "37  Baby Teeth: A Novel                                                                                    \n",
       "38  Leverage in Death--An Eve Dallas Novel: In Death Series, Book 47                                       \n",
       "39  The English Wife: A Novel                                                                              \n",
       "40  The Night Masquerade: Binti Series, Book 3                                                             \n",
       "41  Severance: A Novel                                                                                     \n",
       "42  How Hard Can It Be?: Kate Reddy Series, Book 2                                                         \n",
       "43  The Third Victim: A Novel                                                                              \n",
       "44  Hidden Depths: Vera Stanhope Series, Book 3                                                            \n",
       "45  Black Klansman: Race, Hate, and the Undercover Investigation of a Lifetime                             \n",
       "46  Achtung Baby: An American Mom on the German Art of Raising Self-Reliant Children                       \n",
       "47  Legendary--A Caraval Novel: Caraval Series, Book 2                                                     \n",
       "48  Motherhood: A Novel                                                                                    \n",
       "49  Vicious: Vicious Series, Book 1                                                                        \n",
       "50  Wild Fire: Shetland Island Series, Book 8                                                              \n",
       "51  Kingdom of the Blind: Chief Inspector Armand Gamache Series, Book 14                                   \n",
       "52  The Glass Room: Vera Stanhope Series, Book 5                                                           \n",
       "53  Ten Arguments for Deleting Your Social Media Accounts Right Now                                        \n",
       "54  The Family Next Door: A Novel                                                                          \n",
       "55  When to Jump: If the Job You Have Isn't the Life You Want                                              \n",
       "56  Starless                                                                                               \n",
       "57  The Mitford Murders: Mitford Murders Series, Book 1                                                    \n",
       "58  Milkman: A Novel                                                                                       \n",
       "59  The Mere Wife: A Novel                                                                                 \n",
       "60  So Lucky: A Novel                                                                                      \n",
       "61  The Middleman: A Novel                                                                                 \n",
       "    V1  \n",
       "1   1672\n",
       "2   1504\n",
       "3   1245\n",
       "4    872\n",
       "5    814\n",
       "6    694\n",
       "7    525\n",
       "8    459\n",
       "9    412\n",
       "10   393\n",
       "11   378\n",
       "12   353\n",
       "13   331\n",
       "14   282\n",
       "15   261\n",
       "16   247\n",
       "17   246\n",
       "18   243\n",
       "19   242\n",
       "20   230\n",
       "21   220\n",
       "22   213\n",
       "23   210\n",
       "24   199\n",
       "25   199\n",
       "26   178\n",
       "27   174\n",
       "28   170\n",
       "29   164\n",
       "30   164\n",
       "... ... \n",
       "32  151 \n",
       "33  148 \n",
       "34  146 \n",
       "35  145 \n",
       "36  142 \n",
       "37  139 \n",
       "38  139 \n",
       "39  135 \n",
       "40  133 \n",
       "41  132 \n",
       "42  130 \n",
       "43  127 \n",
       "44  127 \n",
       "45  126 \n",
       "46  125 \n",
       "47  125 \n",
       "48  122 \n",
       "49  120 \n",
       "50  110 \n",
       "51  109 \n",
       "52  108 \n",
       "53  105 \n",
       "54  105 \n",
       "55  104 \n",
       "56  104 \n",
       "57  103 \n",
       "58  103 \n",
       "59  102 \n",
       "60  101 \n",
       "61  100 "
      ]
     },
     "metadata": {},
     "output_type": "display_data"
    }
   ],
   "source": [
    "macDigitalCheckouts2018Pub2018DT<-MacmillanDigitalCheckoutsDT[CheckoutYear == 2018 & PublicationYear == 2018]\n",
    "titlesMacDigital2018Sums<-macDigitalCheckouts2018Pub2018DT[, sum(Checkouts),by=list(Title),]\n",
    "titlesMacDigital2018Sums<-setorder(titlesMacDigital2018Sums, -V1)\n",
    "titlesMacDigital2018Sums[V1 >= 100]"
   ]
  },
  {
   "cell_type": "markdown",
   "metadata": {},
   "source": [
    "## Research Question 1\n",
    "### Which type of readers will be affected by Macmillan’s eBook embargo?\n",
    "\n"
   ]
  },
  {
   "cell_type": "markdown",
   "metadata": {},
   "source": [
    "The total amount of checkouts of Macmillan Publishers eBooks by Seattle Public Library readers in 2018 was:"
   ]
  },
  {
   "cell_type": "code",
   "execution_count": 31,
   "metadata": {
    "scrolled": true
   },
   "outputs": [
    {
     "data": {
      "text/html": [
       "153769"
      ],
      "text/latex": [
       "153769"
      ],
      "text/markdown": [
       "153769"
      ],
      "text/plain": [
       "[1] 153769"
      ]
     },
     "metadata": {},
     "output_type": "display_data"
    }
   ],
   "source": [
    "sum(subjectsMacDigital2018Sums$V1)"
   ]
  },
  {
   "cell_type": "markdown",
   "metadata": {},
   "source": [
    "Of the total, Titles described as Nonfiction totalled"
   ]
  },
  {
   "cell_type": "code",
   "execution_count": 32,
   "metadata": {},
   "outputs": [
    {
     "data": {
      "text/html": [
       "30794"
      ],
      "text/latex": [
       "30794"
      ],
      "text/markdown": [
       "30794"
      ],
      "text/plain": [
       "[1] 30794"
      ]
     },
     "metadata": {},
     "output_type": "display_data"
    }
   ],
   "source": [
    "sum(subjectsMacDigital2018Sums[like(Subjects,\"Nonfiction\")]$V1)"
   ]
  },
  {
   "cell_type": "markdown",
   "metadata": {},
   "source": [
    "or this percent:"
   ]
  },
  {
   "cell_type": "code",
   "execution_count": 33,
   "metadata": {},
   "outputs": [
    {
     "data": {
      "text/html": [
       "0.200261431107701"
      ],
      "text/latex": [
       "0.200261431107701"
      ],
      "text/markdown": [
       "0.200261431107701"
      ],
      "text/plain": [
       "[1] 0.2002614"
      ]
     },
     "metadata": {},
     "output_type": "display_data"
    }
   ],
   "source": [
    "sum(subjectsMacDigital2018Sums[like(Subjects,\"Nonfiction\")]$V1) / sum(subjectsMacDigital2018Sums$V1)"
   ]
  },
  {
   "cell_type": "markdown",
   "metadata": {},
   "source": [
    "Of the total, Titles described as of the Fiction subject totalled:"
   ]
  },
  {
   "cell_type": "code",
   "execution_count": 37,
   "metadata": {
    "scrolled": true
   },
   "outputs": [
    {
     "data": {
      "text/html": [
       "122972"
      ],
      "text/latex": [
       "122972"
      ],
      "text/markdown": [
       "122972"
      ],
      "text/plain": [
       "[1] 122972"
      ]
     },
     "metadata": {},
     "output_type": "display_data"
    }
   ],
   "source": [
    "sum(subjectsMacDigital2018Sums[like(Subjects,\"Fiction\")]$V1)"
   ]
  },
  {
   "cell_type": "markdown",
   "metadata": {},
   "source": [
    "or this percent:"
   ]
  },
  {
   "cell_type": "code",
   "execution_count": 38,
   "metadata": {},
   "outputs": [
    {
     "data": {
      "text/html": [
       "0.799719059108143"
      ],
      "text/latex": [
       "0.799719059108143"
      ],
      "text/markdown": [
       "0.799719059108143"
      ],
      "text/plain": [
       "[1] 0.7997191"
      ]
     },
     "metadata": {},
     "output_type": "display_data"
    }
   ],
   "source": [
    "sum(subjectsMacDigital2018Sums[like(Subjects,\"Fiction\")]$V1) / sum(subjectsMacDigital2018Sums$V1)"
   ]
  },
  {
   "cell_type": "markdown",
   "metadata": {},
   "source": [
    "Of the total, Titles described as of the Science Fiction subject totalled:"
   ]
  },
  {
   "cell_type": "code",
   "execution_count": 39,
   "metadata": {},
   "outputs": [
    {
     "data": {
      "text/html": [
       "20640"
      ],
      "text/latex": [
       "20640"
      ],
      "text/markdown": [
       "20640"
      ],
      "text/plain": [
       "[1] 20640"
      ]
     },
     "metadata": {},
     "output_type": "display_data"
    }
   ],
   "source": [
    "sum(subjectsMacDigital2018Sums[like(Subjects,\"Science Fiction\")]$V1)"
   ]
  },
  {
   "cell_type": "markdown",
   "metadata": {},
   "source": [
    "Of the total, Titles described as of the Fantasy subject totalled:"
   ]
  },
  {
   "cell_type": "code",
   "execution_count": 40,
   "metadata": {},
   "outputs": [
    {
     "data": {
      "text/html": [
       "24506"
      ],
      "text/latex": [
       "24506"
      ],
      "text/markdown": [
       "24506"
      ],
      "text/plain": [
       "[1] 24506"
      ]
     },
     "metadata": {},
     "output_type": "display_data"
    }
   ],
   "source": [
    "sum(subjectsMacDigital2018Sums[like(Subjects,\"Fantasy\")]$V1)"
   ]
  },
  {
   "cell_type": "markdown",
   "metadata": {},
   "source": [
    "Of the total, Titles described as of the Mystery subject totalled:"
   ]
  },
  {
   "cell_type": "code",
   "execution_count": 41,
   "metadata": {},
   "outputs": [
    {
     "data": {
      "text/html": [
       "30738"
      ],
      "text/latex": [
       "30738"
      ],
      "text/markdown": [
       "30738"
      ],
      "text/plain": [
       "[1] 30738"
      ]
     },
     "metadata": {},
     "output_type": "display_data"
    }
   ],
   "source": [
    "sum(subjectsMacDigital2018Sums[like(Subjects,\"Mystery\")]$V1)"
   ]
  },
  {
   "cell_type": "markdown",
   "metadata": {},
   "source": [
    "These do no pie chart well as there is overlab due to multiple titles in the data"
   ]
  },
  {
   "cell_type": "markdown",
   "metadata": {},
   "source": [
    "## Research Question 2 \n",
    "### What is the possible impact if SPL also boycotts Macmillan?  \n",
    "\n",
    "This was the question initally presented in the in-class presentation and is intentionally broad. This question could be analyzed with various approaches and can be broken down in to many sub questions. To list some:\n",
    " - What would the amount of Macmillan Publishers ebook checkouts be in 2020 and 2021?\n",
    " - Will the physical checkout of Macmillan Publisher titles increase due to checkout limitations on ebooks?\n",
    " - Will the Boycott of Macmillan Publishers by the neighboring library system KCLS increase SPL ebook checkouts?\n",
    " - Which kinds of people will the potential boycott effect?\n",
    " - What is the potential financial impact to Macmillan Publishers?"
   ]
  },
  {
   "cell_type": "markdown",
   "metadata": {},
   "source": [
    "Due to the myriad of factors affecting the future outlook for checkouts of ebooks at SPL I decided it would be more precise and easier to present the results if 2018 was used as an assumption to evaluate the impact statement. Below I have revised the research question and answered it."
   ]
  },
  {
   "cell_type": "markdown",
   "metadata": {},
   "source": [
    "## Research Question 2 (Revised)\n",
    "### If SPL were to have boycotted Macmillan in 2018, what would the impact have been?"
   ]
  },
  {
   "cell_type": "markdown",
   "metadata": {},
   "source": [
    "If in SPL would have boycotted Macmillan Publishers in 2018 then 800+ titles would not have been available as ebooks for checkout."
   ]
  },
  {
   "cell_type": "code",
   "execution_count": 23,
   "metadata": {},
   "outputs": [
    {
     "data": {
      "text/html": [
       "<ol class=list-inline>\n",
       "\t<li>809</li>\n",
       "\t<li>2</li>\n",
       "</ol>\n"
      ],
      "text/latex": [
       "\\begin{enumerate*}\n",
       "\\item 809\n",
       "\\item 2\n",
       "\\end{enumerate*}\n"
      ],
      "text/markdown": [
       "1. 809\n",
       "2. 2\n",
       "\n",
       "\n"
      ],
      "text/plain": [
       "[1] 809   2"
      ]
     },
     "metadata": {},
     "output_type": "display_data"
    }
   ],
   "source": [
    "#Titles that would have been unavailable in 2018\n",
    "dim(titlesMacDigital2018Sums)"
   ]
  },
  {
   "cell_type": "markdown",
   "metadata": {},
   "source": [
    "Let us also examine the amount of checkouts of new 2018 titles that occured in 2018."
   ]
  },
  {
   "cell_type": "code",
   "execution_count": 24,
   "metadata": {},
   "outputs": [
    {
     "data": {
      "text/html": [
       "34780"
      ],
      "text/latex": [
       "34780"
      ],
      "text/markdown": [
       "34780"
      ],
      "text/plain": [
       "[1] 34780"
      ]
     },
     "metadata": {},
     "output_type": "display_data"
    }
   ],
   "source": [
    "#Distinct Titles released in 2018 checked out in 2018\n",
    "sum(titlesMacDigital2018Sums$V1)"
   ]
  },
  {
   "cell_type": "markdown",
   "metadata": {},
   "source": [
    "Based on what libraries are supposed to pay for new Macmillan Publishers ebooks we can multiply the total amount of checkouts of new titles in 2018 by the new price ($60). This would be a $2 Million impact!"
   ]
  },
  {
   "cell_type": "code",
   "execution_count": 25,
   "metadata": {},
   "outputs": [
    {
     "data": {
      "text/html": [
       "2086800"
      ],
      "text/latex": [
       "2086800"
      ],
      "text/markdown": [
       "2086800"
      ],
      "text/plain": [
       "[1] 2086800"
      ]
     },
     "metadata": {},
     "output_type": "display_data"
    }
   ],
   "source": [
    "sum(titlesMacDigital2018Sums$V1) * 60"
   ]
  },
  {
   "cell_type": "markdown",
   "metadata": {},
   "source": [
    "However this is not the way libraries work at all. If instead we apply the 5-to-1 ratio guidance proposed by KCLS to this figure then the impact looks a lot smaller at $417,360."
   ]
  },
  {
   "cell_type": "code",
   "execution_count": 26,
   "metadata": {},
   "outputs": [
    {
     "data": {
      "text/html": [
       "417360"
      ],
      "text/latex": [
       "417360"
      ],
      "text/markdown": [
       "417360"
      ],
      "text/plain": [
       "[1] 417360"
      ]
     },
     "metadata": {},
     "output_type": "display_data"
    }
   ],
   "source": [
    "sum(titlesMacDigital2018Sums$V1) * 60 * .2"
   ]
  },
  {
   "cell_type": "markdown",
   "metadata": {},
   "source": [
    "In the Macmillan Publishers communication they use the figure, $ 12.99, and if we adopt that figure the total financial impact would be $ 450,140."
   ]
  },
  {
   "cell_type": "code",
   "execution_count": 27,
   "metadata": {},
   "outputs": [
    {
     "data": {
      "text/html": [
       "452140"
      ],
      "text/latex": [
       "452140"
      ],
      "text/markdown": [
       "452140"
      ],
      "text/plain": [
       "[1] 452140"
      ]
     },
     "metadata": {},
     "output_type": "display_data"
    }
   ],
   "source": [
    "sum(titlesMacDigital2018Sums$V1) * 13"
   ]
  },
  {
   "cell_type": "markdown",
   "metadata": {},
   "source": [
    "## Data Limitations\n",
    "\n",
    "The dataset I found to be surpisingly clean and was able to quantify a lot based on checkouts. I believe the data limitation in this current area is the lack of KCLS checkout data. This is the largest US library system and I was disappointed to not be able to find their checkout data."
   ]
  },
  {
   "cell_type": "markdown",
   "metadata": {},
   "source": [
    "## What the Data Does Not Tell You\n",
    "\n",
    "The data does not have an personal information about anyone checking out these books. It also does not include which branch location data or any location data in general. Because the demographics of the readers of these ebooks was not available it makes it difficult to answer exactly who would be impacted. However, this is greatly to the benefit of the privacy of Seattle's readers!"
   ]
  },
  {
   "cell_type": "markdown",
   "metadata": {},
   "source": [
    "## An Opinion From A Local Librarian\n",
    "\n",
    "I was forunate enough to get a response from one of the local librarians I reached out to. They asked to remain anonymous but I believe their reponse is a very valuable call out to the human centered impact the embargo and potential boycott will have.\n",
    "\n",
    " - “It directly impacts patrons with disability and mobility issues that rely on eBook access.” - Anonymous Librarian Informant\n",
    " - “eBooks are available to populations who can’t prove their residence through ecards that don’t grant physically borrowing rights.” - Anonymous Librarian Informant\n",
    " - “Collective power may be necessary to stand up to this embargo, it’s hard to make a case against limiting patron access by taking it away entirely as is the actual effect of the KCLS boycott.” - Anonymous Librarian Informant"
   ]
  },
  {
   "cell_type": "markdown",
   "metadata": {},
   "source": [
    "## Opportunities for Additional Analyis\n",
    "\n",
    " - As long as Seattle's Open Data Program continues to provide and update the Checkouts by Title dataset there will be opportunity to examine that actual changes to Macmillan Publishers ebook checkouts in the following years as more data becomes available.\n",
    " - There is also opportunity to include the KCLS's checkout data if that is ever made public.\n",
    " - There is opportunity provide projects in to 2020 and 2021 based on current trend. However inclusion of KCLS if it is found publicly available would greatly improve justifying projections for the Seattle area.\n",
    " - There is opportunity to improve financial data based on book sale price history if that dataset can be found publicly available.\n",
    " - I would like to attempt to reproduce the TOR imprint embargo of 2017 with this dataset."
   ]
  },
  {
   "cell_type": "markdown",
   "metadata": {},
   "source": [
    "## Conclusions\n",
    "\n",
    "Fans of fiction novels will be the largest effected when we examine checkouts by subject for Macmillan. Though Macmillan only consists of 5% of digital checkouts, I believe this will have a noticable impact to many readers. There are many titles from the 2018 list that are well known and best sellers and if Macmillan authors continue to publish some best seller every year then the fiction fans will be upset they will not have immediate access via the library.\n",
    "\n",
    "Though it is difficult to predict the scale of impact in future years if SPL were to boycott. I believe I can confidently claim that by using 2018 as a baseline proxy that over 35,000 checkouts per year would be affected. This would mean readers would have to go elsewhere to satisfy their demand. This also comes with a financial impact for Macmillan. This is what they are expecting in some ways however, and their financial analysis led them to make this embargo decision. It will be interesting to see how this evolves as more data is released. I am particularly interested on how long KCLS will continue to boycott and if Seattle joins.\n",
    "\n",
    "The Seattle Library System needs to be very careful when making the decision to boycott Macmillan Publishers. At the moment they are staying on the safe side and not joining KCLS in boycotting. I believe that this is actually in the best interest of Seattle readers especially specific populations such as people with disabilities, mobility issues, or even location issues. I think a field study that is human focused on SPL readers should be carried out before they join in. It also needs to be said that Seattle may see some of the demand for Macmillan ebooks shifted over from KCLS to them and as a provider for those with issues above they morally should continue to provide and not boycott.\n"
   ]
  },
  {
   "cell_type": "markdown",
   "metadata": {},
   "source": [
    "## References\n",
    "Seattle Open Data Program Checkouts by Title Dataset: \n",
    "KCLS boycott of Macmillan comm: https://kcls.org/news/kcls-boycotts-macmillan-publishers-ebook-embargo/\n",
    "Stranger Article I took screenshot of: https://www.thestranger.com/slog/2019/10/22/41762476/king-county-public-library-will-boycott-macmillan-ebooks-seattle-public-library-will-not\n",
    "NPR: https://www.npr.org/2019/11/01/775150979/you-may-have-to-wait-to-borrow-a-new-e-book-from-the-library"
   ]
  },
  {
   "cell_type": "markdown",
   "metadata": {},
   "source": [
    "## Other Resources\n",
    "\n",
    "### On R\n",
    "\n",
    "R Reproducability: https://mran.microsoft.com/documents/rro/reproducibility\n",
    "\n",
    "R data.table is good: https://eliocamp.github.io/codigo-r/en/2019/07/why-i-love-data-table/\n",
    "    data.table intro: https://cran.r-project.org/web/packages/data.table/vignettes/datatable-intro.html\n",
    "    data.table sum one liner with lapply: https://stackoverflow.com/questions/30180590/data-table-sum-and-subset\n",
    "\n",
    "Cool R guide: https://r4ds.had.co.nz/data-visualisation.html\n",
    "\n",
    "### On the Embargo and Libraries\n",
    "\n",
    "https://www.overdrive.com/publishers/st-martins-publishing-group?autoLibrary=t&autoRegion=f&rf-publishDate=2018-12-04&rt-publishDate=2019-09-04&sort=popularity&sd=desc\n",
    "\n",
    "https://en.wikipedia.org/wiki/Macmillan_Publishers\n",
    "\n",
    "https://www.owler.com/company/macmillan\n",
    "\n",
    "KCLS leads ebook checkouts in US: https://kcls.org/news/kcls-tops-overdrive-digital-checkouts-in-2017/\n",
    "\n",
    "KCLS boycott of Macmillan comm: https://kcls.org/news/kcls-boycotts-macmillan-publishers-ebook-embargo/\n",
    "\n",
    "SPL Budget: https://www.spl.org/about-us/the-organization/budget-and-operations/budget\n",
    "\n",
    "TOR Imprint Embargo Statement: https://www.ualibrary.org/mediasrvc/blog/statement-release-regarding-tor-digital-books\n",
    "\n",
    "TOR Embargo: https://www.publishersweekly.com/pw/by-topic/industry-news/libraries/article/77532-tor-scales-back-library-e-book-lending-as-part-of-test.html\n",
    "\n",
    "TOR top sellers: https://us.macmillan.com/search?collection=top-sellers&supapress_order=publishdate-desc&page_number=3&format=MEBB&imprint=tor-books\n",
    "\n",
    "Stranger Article I took screenshot of: https://www.thestranger.com/slog/2019/10/22/41762476/king-county-public-library-will-boycott-macmillan-ebooks-seattle-public-library-will-not\n",
    "\n",
    "NPR: https://www.npr.org/2019/11/01/775150979/you-may-have-to-wait-to-borrow-a-new-e-book-from-the-library\n",
    "\n",
    "ALA report: http://www.ala.org/news/sites/ala.org.news/files/content/mediapresscenter/CompetitionDigitalMarkets.pdf\n",
    "\n",
    "Panorama Project US Library data report: https://static1.squarespace.com/static/5ae8ec5f70e8024a05804e7a/t/5c00229e6d2a73e6ae5478a5/1543512743044/Community+Reading+Event+Impact+Report+v1.pdf\n",
    "\n",
    "### Similar Research\n",
    "\n",
    "Jason Sanford doing similar research: https://www.patreon.com/posts/does-library-tor-28075188\n",
    "\n",
    "Someone's powerbi on the same dataset: https://community.powerbi.com/t5/Data-Stories-Gallery/Readership-in-Seattle-by-Decisive-Data/td-p/224252\n",
    "\n",
    "### Other datasets (unused)\n",
    "\n",
    "NY Times Books API: https://developer.nytimes.com/docs/books-product/1/overview\n"
   ]
  }
 ],
 "metadata": {
  "kernelspec": {
   "display_name": "R",
   "language": "R",
   "name": "ir"
  },
  "language_info": {
   "codemirror_mode": "r",
   "file_extension": ".r",
   "mimetype": "text/x-r-source",
   "name": "R",
   "pygments_lexer": "r",
   "version": "3.6.1"
  }
 },
 "nbformat": 4,
 "nbformat_minor": 2
}
